{
 "cells": [
  {
   "cell_type": "markdown",
   "metadata": {
    "collapsed": false
   },
   "source": [
    "# 模型介绍\n",
    "\n",
    "**End-to-End Object Detection with Transformers**\n",
    "\n",
    "\n",
    "\n",
    "参考代码: https://aistudio.baidu.com/aistudio/projectdetail/1327221\n",
    "\n",
    "* 在大佬的基础上进行修改，包括Paddle 2.0适配， BUG修复，以及精度对齐等工作\n",
    "\n",
    "\n",
    "\n",
    "github pytorch代码: [https://github.com/facebookresearch/detr](https://github.com/facebookresearch/detr)\n",
    "\n",
    "论文地址: [https://arxiv.org/pdf/1706.03762.pdf](https://arxiv.org/pdf/1706.03762.pdf)\n",
    "- 基于transformer实现端到端目标检测, 两大主要组成，一者是预测的匹配损失函数，再者预测目标和他们的关系。\n",
    "- 不需要使用NMS或者anchor生成， 本文能将该任务的先验知识进行编码。DETR结合目标关联关系和上下文直接并行输出最终的预测集。\n",
    "- Bipartite Matching二分图最大匹配， 将节点集V分割为互不相割的子集。训练时将预测框和GT boxes进行匹配。若没有找到匹配的预测框作为\"no object\"。 最终计算匹配损失。\n",
    "- transformer的自注意力机制，专门对序列中成对交互的元素进行建模，所以也很好解决去除重复框\n",
    "- 推理出的box坐标是直接基于输入图片而不是基于anchor\n",
    "- 先预设固定数量的预测量，通常比图像的目标数量多。南调是对预测目标进行评分，使用最低成对匹配成本，用到匈牙利算法。线性组合IOU损失和L1损失。\n",
    "- 网络结构由cnn(res50)+transformer+FFN. 常用的backbone都可以用。cnn到transformer通过1x1卷积进行降维，空间维度压缩到一维， FFN由3层MLP+relu组成。\n",
    "- backbone和transformer分开训练，学习率设置不一样。具体是怎样的方式？\n",
    "- 关于transformer， \n",
    "\t- 其实就是全连接(或一维卷积)加上attention结合体，对于局部特征捕获能力稍欠缺。\n",
    "\t- 编解码结构较大的局限性是固定长度的语义向量， 编码器压缩成一个固长向量无法表示整个序列信息, 前期信息容易被后序信息覆盖，解码时输入每个单词权重不一致。\n",
    "\t- attention解决编解码结构的弊端，编码器时将正序和逆序的隐藏层状态结合起来， 解码时步骤，1.计算编码器隐藏层状态和解码器隐藏层状态间的相关程度并用softmax归一化得到权重值， 2. 计算语义编码向量的加权和，3. 根据加权和计算隐藏状态和解码器输出。不同编解码结构的是解码时选择性的从向量序列中挑选。\t\n",
    "\t- soft attention缺点是每次decode都会计算所有编码器隐藏层状态向量，计算复杂度较高。hard attention每次近选择一个source进行计算，缺点是不可微，无法反向传播。\n",
    "\t- global attetion也属于soft attention， 只是计算权重公式上有差别。实验表明general方式好一些。\n",
    "\t- local attention, 每次选择一部分source进行计算， 既减少计算量又能可微。思路是为decoder预测一个source位置，然后基于位置选择一个窗口用于计算编码向量。关键是怎么确定pt位置， monotoic或predictive。\n",
    "\t- self attention, 传统attention是基于target和source间的相似度，而self是发生在target内部或者source内部的相似关联。self更容易捕获长距依赖特征。query和key点积相当于给每个单词打分，决定了编码单词时重视句子其他部分的程度。softmax决定了其他单词对当前单词编码的贡献，self作为最大，其他单词也很有参考作用。\n",
    "\t- transformer和attention机制一样，只是更复杂，多个encoder和docoder堆叠一起， encoder包含self-attention(不仅仅当前词还有上下文)和神经网络层(可并行)，decoder多了一层attention(当前需关注的重点内容)。encoder前要对输入数据进行embedding操作。\n",
    "\t- 位置编码， transformer缺少解释序列中单词顺序的方法，positional encoding在维度上和embedding一样，偶数位置正弦编码，奇数位置余弦编码，决定当前词的位置或不同词间距离，并且模型可学习到。\n",
    "\t- 多头注意力，主要扩展了模型专注不同位置的能力，给出了注意力层的多个表示子空间。8个头就有8套qkv矩阵，每个头的qkv矩阵权重独立，将这些矩阵拼接在一起并用附加权重矩阵相乘。\n",
    "\t- transformer还使用到了残差和layer norm。LN是在每一个样本上计算均值和方差，而不是BN那种在批方向计算均值和方差。还用到了mask，掩盖值，使其参数更新时不产生效果， padding mask在较短序列填充0，Sequence mask只依赖t之前的信息，将t之后信息掩盖起来。"
   ]
  },
  {
   "cell_type": "markdown",
   "metadata": {
    "collapsed": false
   },
   "source": [
    "# 关于数据集COCO2017\n",
    "\n",
    "COCO的全称是Common Objects in Context，是微软团队提供的一个可以用来进行图像识别的数据集。MS COCO数据集中的图像分为训练、验证和测试集。其行业地位就不再多少了，本文主要梳理一下该数据集包含的内容。下图是官网给出的可下载的数据集（更新时间2020年01月09日），从这里可看出其数据集主要包括有标注的和无标注的数据。\n",
    "\n",
    "\n",
    "\n",
    "![](https://ai-studio-static-online.cdn.bcebos.com/fc21793a8cd6402a9c9d8b9e630fc06d6696c4fc98504c2b982840445aef44a3)\n"
   ]
  },
  {
   "cell_type": "code",
   "execution_count": null,
   "metadata": {
    "collapsed": false
   },
   "outputs": [
    {
     "name": "stdout",
     "output_type": "stream",
     "text": [
      "  inflating: annotations/person_keypoints_val2017.json  \r"
     ]
    }
   ],
   "source": [
    "#解压数据集\r\n",
    "%cd /home/aistudio/data/data7122/ \r\n",
    "!unzip train2017.zip\r\n",
    "!unzip val2017.zip \r\n",
    "!unzip annotations_trainval2017.zip "
   ]
  },
  {
   "cell_type": "code",
   "execution_count": null,
   "metadata": {
    "collapsed": false
   },
   "outputs": [],
   "source": [
    "#加载数据集\r\n",
    "%cd ~/my_detr\r\n",
    "!python coco_dataset.py"
   ]
  },
  {
   "cell_type": "markdown",
   "metadata": {
    "collapsed": false
   },
   "source": [
    "# 模型结构搭建\n",
    "\n",
    "1. Backbone在resnet50基础上修改，支持DC5变体\n",
    "2. 搭建transformer结构\n",
    "3. 搭建后处理包括匈牙利匹配算法\n",
    "4. 损失函数\n",
    "4. 后处理\n",
    "\n",
    "\n",
    "\n",
    "**核心代码主要有:**\n",
    "* model.py\n",
    "* resnet.py\n",
    "* backbone.py\n",
    "* transformer.py\n",
    "\n",
    "![](https://ai-studio-static-online.cdn.bcebos.com/1161d69bda9049b2aa9659d62201b037de3d59c2afd94cb2af9bbe67201256a6)\n"
   ]
  },
  {
   "cell_type": "code",
   "execution_count": null,
   "metadata": {
    "collapsed": false
   },
   "outputs": [],
   "source": []
  },
  {
   "cell_type": "markdown",
   "metadata": {
    "collapsed": false
   },
   "source": [
    "# 精度对齐\n",
    "\n",
    "因为loss函数以及后处理较为复杂，所以这里特定还用了loss精度对齐"
   ]
  },
  {
   "cell_type": "markdown",
   "metadata": {
    "collapsed": false
   },
   "source": [
    "## 输出结果结果精度对齐\n",
    "\n",
    "模拟tensor输入:\n",
    "image = [paddle.ones(shape=[3, 800, 1199])]\n",
    "samples.tensors = torch.ones(1, 3, 800, 1199)\n",
    "因为resize对图像输入有一定差距，所以使用ones的张量, 比如使用样例数据, 0.348(torch) vs 0.31(paddle)\n",
    "\n",
    "\n",
    "pytorch结果:\n",
    "\n",
    "![](https://ai-studio-static-online.cdn.bcebos.com/3001d9f670224454bf7762d037b31a7b77e5e3d8f5f247929a17a11d98fcfbc1)\n",
    "\n",
    "paddle结果:\n",
    "\n",
    "![](https://ai-studio-static-online.cdn.bcebos.com/24ad4a093a1e488cbb3fecef40182dc0f303cbe3a7f24b858f19c3166ed75417)\n",
    "\n",
    "\n"
   ]
  },
  {
   "cell_type": "markdown",
   "metadata": {
    "collapsed": false
   },
   "source": [
    "## LOSS 精度对齐\n",
    "\n",
    "相差小数点2位\n",
    "\n",
    "**Pytorch的结果:**\n",
    "\n",
    "![](https://ai-studio-static-online.cdn.bcebos.com/dd6f3f4a7efa4b73a1eaf035fdc314b54de1e89e63854827bd12d2f11a462b0f)\n",
    "\n",
    "**PaddlePaddle的结果:**\n",
    "\n",
    "![](https://ai-studio-static-online.cdn.bcebos.com/5aad26eed0ec4f539aec384989aa3dd51394b4aca3f24df58f0d532497712018)\n",
    "\n"
   ]
  },
  {
   "cell_type": "markdown",
   "metadata": {
    "collapsed": false
   },
   "source": [
    "# 训练DETR"
   ]
  },
  {
   "cell_type": "code",
   "execution_count": null,
   "metadata": {
    "collapsed": false
   },
   "outputs": [
    {
     "name": "stdout",
     "output_type": "stream",
     "text": [
      "/home/aistudio/my_detr\n",
      "/opt/conda/envs/python35-paddle120-env/lib/python3.7/site-packages/paddle/fluid/layers/utils.py:26: DeprecationWarning: `np.int` is a deprecated alias for the builtin `int`. To silence this warning, use `int` by itself. Doing this will not modify any behavior and is safe. When replacing `np.int`, you may wish to use e.g. `np.int64` or `np.int32` to specify the precision. If you wish to review your current use, check the release note link for additional information.\n",
      "Deprecated in NumPy 1.20; for more details and guidance: https://numpy.org/devdocs/release/1.20.0-notes.html#deprecations\n",
      "  def convert_to_list(value, n, name, dtype=np.int):\n",
      "/opt/conda/envs/python35-paddle120-env/lib/python3.7/site-packages/matplotlib/__init__.py:107: DeprecationWarning: Using or importing the ABCs from 'collections' instead of from 'collections.abc' is deprecated, and in 3.8 it will stop working\n",
      "  from collections import MutableMapping\n",
      "/opt/conda/envs/python35-paddle120-env/lib/python3.7/site-packages/matplotlib/rcsetup.py:20: DeprecationWarning: Using or importing the ABCs from 'collections' instead of from 'collections.abc' is deprecated, and in 3.8 it will stop working\n",
      "  from collections import Iterable, Mapping\n",
      "/opt/conda/envs/python35-paddle120-env/lib/python3.7/site-packages/matplotlib/colors.py:53: DeprecationWarning: Using or importing the ABCs from 'collections' instead of from 'collections.abc' is deprecated, and in 3.8 it will stop working\n",
      "  from collections import Sized\n",
      "---->\n",
      "{'hidden_dim': 256, 'lr_backbone': -1, 'masks': False, 'dilation': False, 'backbone': 'resnet50', 'num_classes': 91, 'dropout': 0.1, 'nheads': 8, 'dim_feedforward': 2048, 'enc_layers': 6, 'dec_layers': 6, 'pre_norm': False, 'num_queries': 100, 'aux_loss': True, 'set_cost_class': 1, 'set_cost_bbox': 5, 'set_cost_giou': 2, 'bbox_loss_coef': 5, 'giou_loss_coef': 2, 'eos_coef': 0.1, 'coco_path': '/home/aistudio/data/data7122', 'lr': 1e-06, 'clip_max_norm': 0.1, 'batch_size': 8, 'epochs': 2}\n",
      "{'num_classes': 91, 'norm_layer': <class 'backbone.FrozenBatchNorm2d'>}\n",
      "block <class 'resnet.BottleneckBlock'>\n",
      "[False, False, False]\n",
      "W0514 19:16:37.620630 26619 device_context.cc:362] Please NOTE: device: 0, GPU Compute Capability: 7.0, Driver API Version: 11.0, Runtime API Version: 10.1\n",
      "W0514 19:16:37.627422 26619 device_context.cc:372] device: 0, cuDNN Version: 7.6.\n",
      "debug: 1 1\n",
      "debug: 2 1\n",
      "debug: 2 1\n",
      "debug: 2 1\n",
      "Epoch 0: StepDecay set learning rate to 1e-06.\n",
      "loading annotations into memory...\n",
      "Done (t=0.56s)\n",
      "creating index...\n",
      "index created!\n",
      "loading annotations into memory...\n",
      "Done (t=0.69s)\n",
      "creating index...\n",
      "index created!\n",
      "/opt/conda/envs/python35-paddle120-env/lib/python3.7/site-packages/paddle/fluid/framework.py:687: DeprecationWarning: `np.bool` is a deprecated alias for the builtin `bool`. To silence this warning, use `bool` by itself. Doing this will not modify any behavior and is safe. If you specifically wanted the numpy scalar type, use `np.bool_` here.\n",
      "Deprecated in NumPy 1.20; for more details and guidance: https://numpy.org/devdocs/release/1.20.0-notes.html#deprecations\n",
      "  elif dtype == np.bool:\n",
      "/opt/conda/envs/python35-paddle120-env/lib/python3.7/site-packages/paddle/tensor/creation.py:143: DeprecationWarning: `np.object` is a deprecated alias for the builtin `object`. To silence this warning, use `object` by itself. Doing this will not modify any behavior and is safe. \n",
      "Deprecated in NumPy 1.20; for more details and guidance: https://numpy.org/devdocs/release/1.20.0-notes.html#deprecations\n",
      "  if data.dtype == np.object:\n",
      "/opt/conda/envs/python35-paddle120-env/lib/python3.7/site-packages/paddle/fluid/dygraph/math_op_patch.py:238: UserWarning: The dtype of left and right variables are not the same, left dtype is VarType.FP32, but right dtype is VarType.INT64, the right dtype will convert to VarType.FP32\n",
      "  format(lhs_dtype, rhs_dtype, lhs_dtype))\n",
      "epoch: 0, batch_id: 0, loss: 10.05978012084961\n",
      "epoch: 0, batch_id: 100, loss: 6.360683917999268\n",
      "epoch: 0, batch_id: 200, loss: 6.134881973266602\n",
      "epoch: 0, batch_id: 300, loss: 7.114040851593018\n",
      "epoch: 0, batch_id: 400, loss: 6.500746250152588\n",
      "epoch: 0, batch_id: 500, loss: 6.7673797607421875\n",
      "epoch: 0, batch_id: 600, loss: 5.745387554168701\n",
      "epoch: 1, batch_id: 0, loss: 7.610352993011475\n",
      "epoch: 1, batch_id: 100, loss: 5.726753234863281\n",
      "epoch: 1, batch_id: 200, loss: 5.837918758392334\n",
      "epoch: 1, batch_id: 300, loss: 6.997137069702148\n",
      "epoch: 1, batch_id: 400, loss: 6.292409420013428\n",
      "epoch: 1, batch_id: 500, loss: 6.677578926086426\n",
      "epoch: 1, batch_id: 600, loss: 5.692938327789307\n"
     ]
    }
   ],
   "source": [
    "#开始训练\n",
    "%cd ~/my_detr\n",
    "!python train_val.py train"
   ]
  },
  {
   "cell_type": "markdown",
   "metadata": {
    "collapsed": false
   },
   "source": [
    "# 验证DETR"
   ]
  },
  {
   "cell_type": "code",
   "execution_count": 14,
   "metadata": {
    "collapsed": false
   },
   "outputs": [
    {
     "name": "stdout",
     "output_type": "stream",
     "text": [
      "/home/aistudio/my_detr\n",
      "/opt/conda/envs/python35-paddle120-env/lib/python3.7/site-packages/paddle/fluid/layers/utils.py:26: DeprecationWarning: `np.int` is a deprecated alias for the builtin `int`. To silence this warning, use `int` by itself. Doing this will not modify any behavior and is safe. When replacing `np.int`, you may wish to use e.g. `np.int64` or `np.int32` to specify the precision. If you wish to review your current use, check the release note link for additional information.\n",
      "Deprecated in NumPy 1.20; for more details and guidance: https://numpy.org/devdocs/release/1.20.0-notes.html#deprecations\n",
      "  def convert_to_list(value, n, name, dtype=np.int):\n",
      "/opt/conda/envs/python35-paddle120-env/lib/python3.7/site-packages/matplotlib/__init__.py:107: DeprecationWarning: Using or importing the ABCs from 'collections' instead of from 'collections.abc' is deprecated, and in 3.8 it will stop working\n",
      "  from collections import MutableMapping\n",
      "/opt/conda/envs/python35-paddle120-env/lib/python3.7/site-packages/matplotlib/rcsetup.py:20: DeprecationWarning: Using or importing the ABCs from 'collections' instead of from 'collections.abc' is deprecated, and in 3.8 it will stop working\n",
      "  from collections import Iterable, Mapping\n",
      "/opt/conda/envs/python35-paddle120-env/lib/python3.7/site-packages/matplotlib/colors.py:53: DeprecationWarning: Using or importing the ABCs from 'collections' instead of from 'collections.abc' is deprecated, and in 3.8 it will stop working\n",
      "  from collections import Sized\n",
      "---->\n",
      "{'hidden_dim': 256, 'lr_backbone': -1, 'masks': False, 'dilation': False, 'backbone': 'resnet50', 'num_classes': 91, 'dropout': 0.1, 'nheads': 8, 'dim_feedforward': 2048, 'enc_layers': 6, 'dec_layers': 6, 'pre_norm': False, 'num_queries': 100, 'aux_loss': True, 'set_cost_class': 1, 'set_cost_bbox': 5, 'set_cost_giou': 2, 'bbox_loss_coef': 5, 'giou_loss_coef': 2, 'eos_coef': 0.1, 'coco_path': '/home/aistudio/data/data7122', 'lr': 1e-06, 'clip_max_norm': 0.1, 'batch_size': 8, 'epochs': 2}\n",
      "{'num_classes': 91, 'norm_layer': <class 'backbone.FrozenBatchNorm2d'>}\n",
      "block <class 'resnet.BottleneckBlock'>\n",
      "[False, False, False]\n",
      "W0514 21:08:15.278102  7932 device_context.cc:362] Please NOTE: device: 0, GPU Compute Capability: 7.0, Driver API Version: 11.0, Runtime API Version: 10.1\n",
      "W0514 21:08:15.283421  7932 device_context.cc:372] device: 0, cuDNN Version: 7.6.\n",
      "debug: 1 1\n",
      "debug: 2 1\n",
      "debug: 2 1\n",
      "debug: 2 1\n",
      "Epoch 0: StepDecay set learning rate to 1e-06.\n",
      "loading annotations into memory...\n",
      "Done (t=0.55s)\n",
      "creating index...\n",
      "index created!\n",
      "loading annotations into memory...\n",
      "Done (t=0.68s)\n",
      "creating index...\n",
      "index created!\n",
      "/opt/conda/envs/python35-paddle120-env/lib/python3.7/site-packages/paddle/fluid/framework.py:687: DeprecationWarning: `np.bool` is a deprecated alias for the builtin `bool`. To silence this warning, use `bool` by itself. Doing this will not modify any behavior and is safe. If you specifically wanted the numpy scalar type, use `np.bool_` here.\n",
      "Deprecated in NumPy 1.20; for more details and guidance: https://numpy.org/devdocs/release/1.20.0-notes.html#deprecations\n",
      "  elif dtype == np.bool:\n",
      "/opt/conda/envs/python35-paddle120-env/lib/python3.7/site-packages/paddle/fluid/dygraph/math_op_patch.py:238: UserWarning: The dtype of left and right variables are not the same, left dtype is VarType.FP32, but right dtype is VarType.INT64, the right dtype will convert to VarType.FP32\n",
      "  format(lhs_dtype, rhs_dtype, lhs_dtype))\n",
      "Accumulating evaluation results...\n",
      "/opt/conda/envs/python35-paddle120-env/lib/python3.7/site-packages/pycocotools/cocoeval.py:378: DeprecationWarning: `np.float` is a deprecated alias for the builtin `float`. To silence this warning, use `float` by itself. Doing this will not modify any behavior and is safe. If you specifically wanted the numpy scalar type, use `np.float64` here.\n",
      "Deprecated in NumPy 1.20; for more details and guidance: https://numpy.org/devdocs/release/1.20.0-notes.html#deprecations\n",
      "  tp_sum = np.cumsum(tps, axis=1).astype(dtype=np.float)\n",
      "/opt/conda/envs/python35-paddle120-env/lib/python3.7/site-packages/pycocotools/cocoeval.py:379: DeprecationWarning: `np.float` is a deprecated alias for the builtin `float`. To silence this warning, use `float` by itself. Doing this will not modify any behavior and is safe. If you specifically wanted the numpy scalar type, use `np.float64` here.\n",
      "Deprecated in NumPy 1.20; for more details and guidance: https://numpy.org/devdocs/release/1.20.0-notes.html#deprecations\n",
      "  fp_sum = np.cumsum(fps, axis=1).astype(dtype=np.float)\n",
      "DONE (t=11.61s).\n",
      "IoU metric: bbox\n",
      " Average Precision  (AP) @[ IoU=0.50:0.95 | area=   all | maxDets=100 ] = 0.420\n",
      " Average Precision  (AP) @[ IoU=0.50      | area=   all | maxDets=100 ] = 0.624\n",
      " Average Precision  (AP) @[ IoU=0.75      | area=   all | maxDets=100 ] = 0.442\n",
      " Average Precision  (AP) @[ IoU=0.50:0.95 | area= small | maxDets=100 ] = 0.213\n",
      " Average Precision  (AP) @[ IoU=0.50:0.95 | area=medium | maxDets=100 ] = 0.460\n",
      " Average Precision  (AP) @[ IoU=0.50:0.95 | area= large | maxDets=100 ] = 0.611\n",
      " Average Recall     (AR) @[ IoU=0.50:0.95 | area=   all | maxDets=  1 ] = 0.334\n",
      " Average Recall     (AR) @[ IoU=0.50:0.95 | area=   all | maxDets= 10 ] = 0.533\n",
      " Average Recall     (AR) @[ IoU=0.50:0.95 | area=   all | maxDets=100 ] = 0.575\n",
      " Average Recall     (AR) @[ IoU=0.50:0.95 | area= small | maxDets=100 ] = 0.325\n",
      " Average Recall     (AR) @[ IoU=0.50:0.95 | area=medium | maxDets=100 ] = 0.631\n",
      " Average Recall     (AR) @[ IoU=0.50:0.95 | area= large | maxDets=100 ] = 0.809\n"
     ]
    }
   ],
   "source": [
    "%cd ~/my_detr\n",
    "!python train_val.py eval"
   ]
  },
  {
   "cell_type": "markdown",
   "metadata": {
    "collapsed": false
   },
   "source": [
    "# 训练DETR-DC5\n",
    "\n",
    "这个模型非常耗显存, 很难训练"
   ]
  },
  {
   "cell_type": "code",
   "execution_count": null,
   "metadata": {
    "collapsed": false
   },
   "outputs": [
    {
     "name": "stdout",
     "output_type": "stream",
     "text": [
      "/home/aistudio/my_detr\n",
      "/opt/conda/envs/python35-paddle120-env/lib/python3.7/site-packages/paddle/fluid/layers/utils.py:26: DeprecationWarning: `np.int` is a deprecated alias for the builtin `int`. To silence this warning, use `int` by itself. Doing this will not modify any behavior and is safe. When replacing `np.int`, you may wish to use e.g. `np.int64` or `np.int32` to specify the precision. If you wish to review your current use, check the release note link for additional information.\n",
      "Deprecated in NumPy 1.20; for more details and guidance: https://numpy.org/devdocs/release/1.20.0-notes.html#deprecations\n",
      "  def convert_to_list(value, n, name, dtype=np.int):\n",
      "/opt/conda/envs/python35-paddle120-env/lib/python3.7/site-packages/matplotlib/__init__.py:107: DeprecationWarning: Using or importing the ABCs from 'collections' instead of from 'collections.abc' is deprecated, and in 3.8 it will stop working\n",
      "  from collections import MutableMapping\n",
      "/opt/conda/envs/python35-paddle120-env/lib/python3.7/site-packages/matplotlib/rcsetup.py:20: DeprecationWarning: Using or importing the ABCs from 'collections' instead of from 'collections.abc' is deprecated, and in 3.8 it will stop working\n",
      "  from collections import Iterable, Mapping\n",
      "/opt/conda/envs/python35-paddle120-env/lib/python3.7/site-packages/matplotlib/colors.py:53: DeprecationWarning: Using or importing the ABCs from 'collections' instead of from 'collections.abc' is deprecated, and in 3.8 it will stop working\n",
      "  from collections import Sized\n",
      "---->\n",
      "{'hidden_dim': 256, 'lr_backbone': -1, 'masks': False, 'dilation': True, 'backbone': 'resnet50', 'num_classes': 91, 'dropout': 0.1, 'nheads': 8, 'dim_feedforward': 2048, 'enc_layers': 6, 'dec_layers': 6, 'pre_norm': False, 'num_queries': 100, 'aux_loss': True, 'set_cost_class': 1, 'set_cost_bbox': 5, 'set_cost_giou': 2, 'bbox_loss_coef': 5, 'giou_loss_coef': 2, 'eos_coef': 0.1, 'coco_path': '/home/aistudio/data/data7122', 'lr': 1e-06, 'clip_max_norm': 0.1, 'batch_size': 1, 'epochs': 1}\n",
      "{'num_classes': 91, 'replace_stride_with_dilation': [False, False, True], 'norm_layer': <class 'backbone.FrozenBatchNorm2d'>}\n",
      "block <class 'resnet.BottleneckBlock'>\n",
      "[False, False, True]\n",
      "W0514 17:11:00.507395 24269 device_context.cc:362] Please NOTE: device: 0, GPU Compute Capability: 7.0, Driver API Version: 11.0, Runtime API Version: 10.1\n",
      "W0514 17:11:00.512784 24269 device_context.cc:372] device: 0, cuDNN Version: 7.6.\n",
      "debug: 1 1\n",
      "debug: 2 1\n",
      "debug: 2 1\n",
      "debug: 1 2\n",
      "530\n",
      "Epoch 0: StepDecay set learning rate to 1e-06.\n",
      "loading annotations into memory...\n",
      "Done (t=0.57s)\n",
      "creating index...\n",
      "index created!\n",
      "loading annotations into memory...\n",
      "Done (t=0.70s)\n",
      "creating index...\n",
      "index created!\n",
      "/opt/conda/envs/python35-paddle120-env/lib/python3.7/site-packages/paddle/fluid/framework.py:687: DeprecationWarning: `np.bool` is a deprecated alias for the builtin `bool`. To silence this warning, use `bool` by itself. Doing this will not modify any behavior and is safe. If you specifically wanted the numpy scalar type, use `np.bool_` here.\n",
      "Deprecated in NumPy 1.20; for more details and guidance: https://numpy.org/devdocs/release/1.20.0-notes.html#deprecations\n",
      "  elif dtype == np.bool:\n",
      "/opt/conda/envs/python35-paddle120-env/lib/python3.7/site-packages/paddle/tensor/creation.py:143: DeprecationWarning: `np.object` is a deprecated alias for the builtin `object`. To silence this warning, use `object` by itself. Doing this will not modify any behavior and is safe. \n",
      "Deprecated in NumPy 1.20; for more details and guidance: https://numpy.org/devdocs/release/1.20.0-notes.html#deprecations\n",
      "  if data.dtype == np.object:\n",
      "/opt/conda/envs/python35-paddle120-env/lib/python3.7/site-packages/paddle/fluid/dygraph/math_op_patch.py:238: UserWarning: The dtype of left and right variables are not the same, left dtype is VarType.FP32, but right dtype is VarType.INT64, the right dtype will convert to VarType.FP32\n",
      "  format(lhs_dtype, rhs_dtype, lhs_dtype))\n",
      "epoch: 0, batch_id: 0, loss: 5.015964031219482\n",
      "epoch: 0, batch_id: 100, loss: 14.247769355773926\n",
      "epoch: 0, batch_id: 200, loss: 7.298154830932617\n",
      "epoch: 0, batch_id: 300, loss: 1.0471426248550415\n",
      "epoch: 0, batch_id: 400, loss: 7.584997653961182\n",
      "epoch: 0, batch_id: 500, loss: 3.577380895614624\n",
      "epoch: 0, batch_id: 600, loss: 4.61794900894165\n",
      "epoch: 0, batch_id: 700, loss: 5.049403667449951\n",
      "epoch: 0, batch_id: 800, loss: 5.122508525848389\n",
      "epoch: 0, batch_id: 900, loss: 3.216052770614624\n",
      "epoch: 0, batch_id: 1000, loss: 3.3042514324188232\n",
      "epoch: 0, batch_id: 1100, loss: 4.413068771362305\n",
      "epoch: 0, batch_id: 1200, loss: 7.288424015045166\n",
      "epoch: 0, batch_id: 1300, loss: 6.1409735679626465\n",
      "epoch: 0, batch_id: 1400, loss: 10.504143714904785\n",
      "epoch: 0, batch_id: 1500, loss: 3.685210704803467\n",
      "epoch: 0, batch_id: 1600, loss: 2.6168665885925293\n",
      "epoch: 0, batch_id: 1700, loss: 22.14373016357422\n",
      "epoch: 0, batch_id: 1800, loss: 8.267280578613281\n",
      "epoch: 0, batch_id: 1900, loss: 1.4486600160598755\n",
      "epoch: 0, batch_id: 2000, loss: 4.107017993927002\n",
      "epoch: 0, batch_id: 2100, loss: 9.582965850830078\n",
      "epoch: 0, batch_id: 2200, loss: 6.967478275299072\n",
      "epoch: 0, batch_id: 2300, loss: 15.338693618774414\n",
      "epoch: 0, batch_id: 2400, loss: 13.399685859680176\n",
      "epoch: 0, batch_id: 2500, loss: 1.4326478242874146\n",
      "epoch: 0, batch_id: 2600, loss: 6.990074157714844\n",
      "epoch: 0, batch_id: 2700, loss: 8.32422161102295\n",
      "epoch: 0, batch_id: 2800, loss: 5.453993797302246\n",
      "epoch: 0, batch_id: 2900, loss: 7.272365093231201\n",
      "epoch: 0, batch_id: 3000, loss: 8.217702865600586\n",
      "epoch: 0, batch_id: 3100, loss: 2.2091081142425537\n",
      "epoch: 0, batch_id: 3200, loss: 0.9168111085891724\n",
      "epoch: 0, batch_id: 3300, loss: 1.9928405284881592\n",
      "epoch: 0, batch_id: 3400, loss: 6.245678424835205\n",
      "epoch: 0, batch_id: 3500, loss: 8.91486930847168\n",
      "epoch: 0, batch_id: 3600, loss: 6.916267395019531\n",
      "epoch: 0, batch_id: 3700, loss: 4.461080551147461\n",
      "epoch: 0, batch_id: 3800, loss: 8.265044212341309\n",
      "epoch: 0, batch_id: 3900, loss: 8.603659629821777\n",
      "epoch: 0, batch_id: 4000, loss: 4.085428714752197\n",
      "epoch: 0, batch_id: 4100, loss: 10.250466346740723\n",
      "epoch: 0, batch_id: 4200, loss: 2.327882766723633\n",
      "epoch: 0, batch_id: 4300, loss: 3.273315906524658\n",
      "epoch: 0, batch_id: 4400, loss: 6.719542026519775\n",
      "epoch: 0, batch_id: 4500, loss: 3.232994794845581\n",
      "epoch: 0, batch_id: 4600, loss: 4.106349945068359\n",
      "epoch: 0, batch_id: 4700, loss: 1.6361501216888428\n",
      "epoch: 0, batch_id: 4800, loss: 4.615266799926758\n",
      "epoch: 0, batch_id: 4900, loss: 8.394232749938965\n",
      "start evaluating....\n",
      "Accumulating evaluation results...\n",
      "/opt/conda/envs/python35-paddle120-env/lib/python3.7/site-packages/pycocotools/cocoeval.py:378: DeprecationWarning: `np.float` is a deprecated alias for the builtin `float`. To silence this warning, use `float` by itself. Doing this will not modify any behavior and is safe. If you specifically wanted the numpy scalar type, use `np.float64` here.\n",
      "Deprecated in NumPy 1.20; for more details and guidance: https://numpy.org/devdocs/release/1.20.0-notes.html#deprecations\n",
      "  tp_sum = np.cumsum(tps, axis=1).astype(dtype=np.float)\n",
      "/opt/conda/envs/python35-paddle120-env/lib/python3.7/site-packages/pycocotools/cocoeval.py:379: DeprecationWarning: `np.float` is a deprecated alias for the builtin `float`. To silence this warning, use `float` by itself. Doing this will not modify any behavior and is safe. If you specifically wanted the numpy scalar type, use `np.float64` here.\n",
      "Deprecated in NumPy 1.20; for more details and guidance: https://numpy.org/devdocs/release/1.20.0-notes.html#deprecations\n",
      "  fp_sum = np.cumsum(fps, axis=1).astype(dtype=np.float)\n",
      "DONE (t=9.37s).\n",
      "IoU metric: bbox\n",
      " Average Precision  (AP) @[ IoU=0.50:0.95 | area=   all | maxDets=100 ] = 0.432\n",
      " Average Precision  (AP) @[ IoU=0.50      | area=   all | maxDets=100 ] = 0.634\n",
      " Average Precision  (AP) @[ IoU=0.75      | area=   all | maxDets=100 ] = 0.458\n",
      " Average Precision  (AP) @[ IoU=0.50:0.95 | area= small | maxDets=100 ] = 0.223\n",
      " Average Precision  (AP) @[ IoU=0.50:0.95 | area=medium | maxDets=100 ] = 0.471\n",
      " Average Precision  (AP) @[ IoU=0.50:0.95 | area= large | maxDets=100 ] = 0.612\n",
      " Average Recall     (AR) @[ IoU=0.50:0.95 | area=   all | maxDets=  1 ] = 0.340\n",
      " Average Recall     (AR) @[ IoU=0.50:0.95 | area=   all | maxDets= 10 ] = 0.551\n",
      " Average Recall     (AR) @[ IoU=0.50:0.95 | area=   all | maxDets=100 ] = 0.591\n",
      " Average Recall     (AR) @[ IoU=0.50:0.95 | area= small | maxDets=100 ] = 0.334\n",
      " Average Recall     (AR) @[ IoU=0.50:0.95 | area=medium | maxDets=100 ] = 0.642\n",
      " Average Recall     (AR) @[ IoU=0.50:0.95 | area= large | maxDets=100 ] = 0.815\n",
      "save weights with map:  0.43226377363430357\n"
     ]
    }
   ],
   "source": [
    "#开始训练DC5\n",
    "%cd ~/my_detr\n",
    "!python train_val_dc5.py train"
   ]
  },
  {
   "cell_type": "markdown",
   "metadata": {
    "collapsed": false
   },
   "source": [
    "# 验证DETR-DC5"
   ]
  },
  {
   "cell_type": "code",
   "execution_count": 15,
   "metadata": {
    "collapsed": false
   },
   "outputs": [
    {
     "name": "stdout",
     "output_type": "stream",
     "text": [
      "/home/aistudio/my_detr\n",
      "/opt/conda/envs/python35-paddle120-env/lib/python3.7/site-packages/paddle/fluid/layers/utils.py:26: DeprecationWarning: `np.int` is a deprecated alias for the builtin `int`. To silence this warning, use `int` by itself. Doing this will not modify any behavior and is safe. When replacing `np.int`, you may wish to use e.g. `np.int64` or `np.int32` to specify the precision. If you wish to review your current use, check the release note link for additional information.\n",
      "Deprecated in NumPy 1.20; for more details and guidance: https://numpy.org/devdocs/release/1.20.0-notes.html#deprecations\n",
      "  def convert_to_list(value, n, name, dtype=np.int):\n",
      "/opt/conda/envs/python35-paddle120-env/lib/python3.7/site-packages/matplotlib/__init__.py:107: DeprecationWarning: Using or importing the ABCs from 'collections' instead of from 'collections.abc' is deprecated, and in 3.8 it will stop working\n",
      "  from collections import MutableMapping\n",
      "/opt/conda/envs/python35-paddle120-env/lib/python3.7/site-packages/matplotlib/rcsetup.py:20: DeprecationWarning: Using or importing the ABCs from 'collections' instead of from 'collections.abc' is deprecated, and in 3.8 it will stop working\n",
      "  from collections import Iterable, Mapping\n",
      "/opt/conda/envs/python35-paddle120-env/lib/python3.7/site-packages/matplotlib/colors.py:53: DeprecationWarning: Using or importing the ABCs from 'collections' instead of from 'collections.abc' is deprecated, and in 3.8 it will stop working\n",
      "  from collections import Sized\n",
      "---->\n",
      "{'hidden_dim': 256, 'lr_backbone': -1, 'masks': False, 'dilation': True, 'backbone': 'resnet50', 'num_classes': 91, 'dropout': 0.1, 'nheads': 8, 'dim_feedforward': 2048, 'enc_layers': 6, 'dec_layers': 6, 'pre_norm': False, 'num_queries': 100, 'aux_loss': True, 'set_cost_class': 1, 'set_cost_bbox': 5, 'set_cost_giou': 2, 'bbox_loss_coef': 5, 'giou_loss_coef': 2, 'eos_coef': 0.1, 'coco_path': '/home/aistudio/data/data7122', 'lr': 1e-06, 'clip_max_norm': 0.1, 'batch_size': 1, 'epochs': 1}\n",
      "{'num_classes': 91, 'replace_stride_with_dilation': [False, False, True], 'norm_layer': <class 'backbone.FrozenBatchNorm2d'>}\n",
      "block <class 'resnet.BottleneckBlock'>\n",
      "[False, False, True]\n",
      "W0514 21:21:04.015319  9341 device_context.cc:362] Please NOTE: device: 0, GPU Compute Capability: 7.0, Driver API Version: 11.0, Runtime API Version: 10.1\n",
      "W0514 21:21:04.020784  9341 device_context.cc:372] device: 0, cuDNN Version: 7.6.\n",
      "debug: 1 1\n",
      "debug: 2 1\n",
      "debug: 2 1\n",
      "debug: 1 2\n",
      "Epoch 0: StepDecay set learning rate to 1e-06.\n",
      "loading annotations into memory...\n",
      "Done (t=0.56s)\n",
      "creating index...\n",
      "index created!\n",
      "loading annotations into memory...\n",
      "Done (t=0.69s)\n",
      "creating index...\n",
      "index created!\n",
      "/opt/conda/envs/python35-paddle120-env/lib/python3.7/site-packages/paddle/fluid/framework.py:687: DeprecationWarning: `np.bool` is a deprecated alias for the builtin `bool`. To silence this warning, use `bool` by itself. Doing this will not modify any behavior and is safe. If you specifically wanted the numpy scalar type, use `np.bool_` here.\n",
      "Deprecated in NumPy 1.20; for more details and guidance: https://numpy.org/devdocs/release/1.20.0-notes.html#deprecations\n",
      "  elif dtype == np.bool:\n",
      "/opt/conda/envs/python35-paddle120-env/lib/python3.7/site-packages/paddle/fluid/dygraph/math_op_patch.py:238: UserWarning: The dtype of left and right variables are not the same, left dtype is VarType.FP32, but right dtype is VarType.INT64, the right dtype will convert to VarType.FP32\n",
      "  format(lhs_dtype, rhs_dtype, lhs_dtype))\n",
      "Accumulating evaluation results...\n",
      "/opt/conda/envs/python35-paddle120-env/lib/python3.7/site-packages/pycocotools/cocoeval.py:378: DeprecationWarning: `np.float` is a deprecated alias for the builtin `float`. To silence this warning, use `float` by itself. Doing this will not modify any behavior and is safe. If you specifically wanted the numpy scalar type, use `np.float64` here.\n",
      "Deprecated in NumPy 1.20; for more details and guidance: https://numpy.org/devdocs/release/1.20.0-notes.html#deprecations\n",
      "  tp_sum = np.cumsum(tps, axis=1).astype(dtype=np.float)\n",
      "/opt/conda/envs/python35-paddle120-env/lib/python3.7/site-packages/pycocotools/cocoeval.py:379: DeprecationWarning: `np.float` is a deprecated alias for the builtin `float`. To silence this warning, use `float` by itself. Doing this will not modify any behavior and is safe. If you specifically wanted the numpy scalar type, use `np.float64` here.\n",
      "Deprecated in NumPy 1.20; for more details and guidance: https://numpy.org/devdocs/release/1.20.0-notes.html#deprecations\n",
      "  fp_sum = np.cumsum(fps, axis=1).astype(dtype=np.float)\n",
      "DONE (t=9.90s).\n",
      "IoU metric: bbox\n",
      " Average Precision  (AP) @[ IoU=0.50:0.95 | area=   all | maxDets=100 ] = 0.431\n",
      " Average Precision  (AP) @[ IoU=0.50      | area=   all | maxDets=100 ] = 0.630\n",
      " Average Precision  (AP) @[ IoU=0.75      | area=   all | maxDets=100 ] = 0.458\n",
      " Average Precision  (AP) @[ IoU=0.50:0.95 | area= small | maxDets=100 ] = 0.223\n",
      " Average Precision  (AP) @[ IoU=0.50:0.95 | area=medium | maxDets=100 ] = 0.470\n",
      " Average Precision  (AP) @[ IoU=0.50:0.95 | area= large | maxDets=100 ] = 0.609\n",
      " Average Recall     (AR) @[ IoU=0.50:0.95 | area=   all | maxDets=  1 ] = 0.340\n",
      " Average Recall     (AR) @[ IoU=0.50:0.95 | area=   all | maxDets= 10 ] = 0.549\n",
      " Average Recall     (AR) @[ IoU=0.50:0.95 | area=   all | maxDets=100 ] = 0.593\n",
      " Average Recall     (AR) @[ IoU=0.50:0.95 | area= small | maxDets=100 ] = 0.339\n",
      " Average Recall     (AR) @[ IoU=0.50:0.95 | area=medium | maxDets=100 ] = 0.645\n",
      " Average Recall     (AR) @[ IoU=0.50:0.95 | area= large | maxDets=100 ] = 0.812\n"
     ]
    }
   ],
   "source": [
    "#验证DETR-DC5\n",
    "%cd ~/my_detr\n",
    "!python train_val_dc5.py eval"
   ]
  }
 ],
 "metadata": {
  "kernelspec": {
   "display_name": "PaddlePaddle 2.0.0b0 (Python 3.5)",
   "language": "python",
   "name": "py35-paddle1.2.0"
  },
  "language_info": {
   "codemirror_mode": {
    "name": "ipython",
    "version": 3
   },
   "file_extension": ".py",
   "mimetype": "text/x-python",
   "name": "python",
   "nbconvert_exporter": "python",
   "pygments_lexer": "ipython3",
   "version": "3.7.4"
  }
 },
 "nbformat": 4,
 "nbformat_minor": 1
}
